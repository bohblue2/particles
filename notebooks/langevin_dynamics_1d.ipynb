{
 "cells": [
  {
   "cell_type": "code",
   "execution_count": 4,
   "metadata": {},
   "outputs": [],
   "source": [
    "import numpy as np\n",
    "import matplotlib.pyplot as plt\n",
    "\n",
    "# Parameters\n",
    "gamma = 1.0  # Friction coefficient\n",
    "k_B_T = 1.0  # Thermal energy (Boltzmann constant * temperature)\n",
    "mass = 1.0  # Mass of the particle\n",
    "dt = 0.01  # Time step\n",
    "num_steps = 10000  # Number of simulation steps\n",
    "x0 = 0.0  # Initial position\n",
    "potential_strength = 1.0  # Harmonic potential strength\n",
    "\n",
    "# Harmonic potential function\n",
    "def harmonic_potential(x):\n",
    "    return 0.5 * potential_strength * x ** 2\n",
    "\n",
    "# Force derived from the harmonic potential\n",
    "def harmonic_force(x):\n",
    "    return -potential_strength * x\n",
    "\n",
    "# Langevin dynamics simulation\n",
    "def langevin_dynamics(x0, num_steps, dt, gamma, k_B_T, mass):\n",
    "    positions = [x0]\n",
    "    x = x0\n",
    "\n",
    "    for _ in range(num_steps):\n",
    "        # Compute the deterministic force\n",
    "        F_deterministic = harmonic_force(x)\n",
    "\n",
    "        # Thermal noise (stochastic term)\n",
    "        noise = np.sqrt(2 * gamma * k_B_T / dt) * np.random.normal()\n",
    "\n",
    "        # Update position using Langevin equation\n",
    "        dx = (F_deterministic / mass) * dt - (gamma / mass) * x * dt + (1 / mass) * noise\n",
    "        x += dx\n",
    "\n",
    "        positions.append(x)\n",
    "\n",
    "    return np.array(positions)\n",
    "\n",
    "# Run the simulation\n",
    "positions = langevin_dynamics(x0, num_steps, dt, gamma, k_B_T, mass)\n",
    "\n",
    "# Plot results\n",
    "time = np.linspace(0, num_steps * dt, num_steps + 1)\n",
    "plt.figure(figsize=(10, 6))\n",
    "plt.plot(time, positions, label=\"Langevin Dynamics\")\n",
    "plt.xlabel(\"Time\")\n",
    "plt.ylabel(\"Position\")\n",
    "plt.title(\"Langevin Dynamics Simulation\")\n",
    "plt.legend()\n",
    "plt.grid()\n",
    "plt.savefig('../.github/assets/langevin_dynamics_1d_simulation.png')\n",
    "plt.close()"
   ]
  },
  {
   "cell_type": "code",
   "execution_count": null,
   "metadata": {},
   "outputs": [],
   "source": []
  }
 ],
 "metadata": {
  "kernelspec": {
   "display_name": "Python 3",
   "language": "python",
   "name": "python3"
  },
  "language_info": {
   "codemirror_mode": {
    "name": "ipython",
    "version": 3
   },
   "file_extension": ".py",
   "mimetype": "text/x-python",
   "name": "python",
   "nbconvert_exporter": "python",
   "pygments_lexer": "ipython3",
   "version": "3.11.9"
  }
 },
 "nbformat": 4,
 "nbformat_minor": 2
}
